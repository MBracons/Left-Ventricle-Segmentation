{
 "cells": [
  {
   "cell_type": "markdown",
   "id": "1bcf8326-b0e0-48b1-896d-84d768f96a9a",
   "metadata": {},
   "source": [
    "**<font size=\"6\">Script para ordenar el dataset, organizar los conjuntos de entrenamiento y usar image augmentation**</font>\n",
    "\n",
    "<dl>\n",
    "<dt>Para obtener los archivos test.csv, train.csv:</dt>\n",
    "    <dd>- Obtener los archivos MAX_MIN.png y organizarlos en carpetas</dd>\n",
    "    <dd>- Obtener un archivo dataset.csv con toda la información necesaria para el entrenamiento</dd>\n",
    "    <dd>- Separar en conjuntos de entrenamiento y validación</dd>\n",
    "    <dd>- Usar Image Augmentation en el conjunto de entrenamiento para evitar posible sobreajuste del modelo</dd>\n",
    "</dl>"
   ]
  },
  {
   "cell_type": "code",
   "execution_count": 1,
   "id": "875ae222-692f-4467-9556-aa0ad04ae338",
   "metadata": {},
   "outputs": [],
   "source": [
    "# Program: <DATASET_CSV.ipynb>\n",
    "# Author: Marc Bracons Cucó\n",
    "# Affiliation: Department of Telecommunication and Systems Engineering, Autonomous University of Barcelona, Wireless Information Networking Group\n",
    "# Copyright © 2023 Marc Bracons Cucó\n",
    "# \n",
    "# This program is proprietary software; you may not use, distribute, or modify it \n",
    "# without the explicit permission of the author.\n",
    "#\n",
    "# If you wish to use this program in your work, please, contact the author."
   ]
  },
  {
   "cell_type": "markdown",
   "id": "c0de30a7-fdaf-4e00-b8c9-59a176629b76",
   "metadata": {},
   "source": [
    "**<font size=\"4\">Mover y renombrar archivos MAX_MIN.png a MAX_MIN_frame.png en carpetas _numPaciente</font>**"
   ]
  },
  {
   "cell_type": "code",
   "execution_count": 6,
   "id": "5b8bd15b-9573-4408-9015-b8375b6c6bbb",
   "metadata": {},
   "outputs": [
    {
     "name": "stdout",
     "output_type": "stream",
     "text": [
      "El proceso ha finalizado con éxito.\n"
     ]
    }
   ],
   "source": [
    "import os\n",
    "import shutil\n",
    "\n",
    "# Definir la ruta base\n",
    "base_dir = \"/home/win001/00_heart/00_Dataset_CNN/02_ALL_FRAMES\"\n",
    "output_dir = \"/home/win001/00_heart/00_Dataset_CNN/02_Recortes\"\n",
    "\n",
    "# Recorrer las carpetas MCH y Otros\n",
    "for category in [\"MCH\", \"Otros\"]:\n",
    "    cat_dir = os.path.join(base_dir, category)\n",
    "    \n",
    "    # Recorrer las carpetas de cada paciente\n",
    "    for patient in os.listdir(cat_dir):\n",
    "        patient_dir = os.path.join(cat_dir, patient)\n",
    "        \n",
    "        # Recorrer las carpetas de frames\n",
    "        for frame_folder in os.listdir(patient_dir):\n",
    "            frame_dir = os.path.join(patient_dir, frame_folder)\n",
    "\n",
    "            # Comprobar si existe MAX_MIN.png antes de renombrar\n",
    "            old_file_path = os.path.join(frame_dir, \"recortes\", \"MAX_MIN.png\")\n",
    "            if os.path.isfile(old_file_path):\n",
    "                new_file_name = \"MAX_MIN_\" + frame_folder.split('_')[-1] + \".png\"\n",
    "                new_file_path = os.path.join(frame_dir, \"recortes\", new_file_name)\n",
    "                \n",
    "                os.rename(old_file_path, new_file_path)\n",
    "                \n",
    "                # Crear carpetas de salida si no existen\n",
    "                new_patient_folder = os.path.join(output_dir, category, patient)\n",
    "                os.makedirs(new_patient_folder, exist_ok=True)\n",
    "                \n",
    "                # Mover los archivos renombrados al nuevo directorio\n",
    "                shutil.move(new_file_path, new_patient_folder)\n",
    "\n",
    "print(\"El proceso ha finalizado con éxito.\")"
   ]
  },
  {
   "cell_type": "markdown",
   "id": "7b061717-5f55-4606-827a-118e4f53199d",
   "metadata": {},
   "source": [
    "**<font size=\"4\">Crear archivo dataset.csv con la siguiente información:**</font>\n",
    "<dl>\n",
    "    <dt>- image_file: ruta completa de la imagen</dt>\n",
    "    <dt>- paciente: id del paciente</dt>\n",
    "    <dt>- frame: frame al que pertenece la imagen</dt>\n",
    "    <dt>- type: 1 si el paciente tiene MCH, 0 en caso contrario</dt>\n",
    "</dl>"
   ]
  },
  {
   "cell_type": "code",
   "execution_count": 8,
   "id": "5e75f8f7-8767-42e7-8b4b-f8e7dce40730",
   "metadata": {},
   "outputs": [
    {
     "name": "stdout",
     "output_type": "stream",
     "text": [
      "El archivo CSV ha sido creado exitosamente en la ruta: /home/win001/00_heart/00_Dataset_CNN/02_Recortes/dataset.csv\n"
     ]
    }
   ],
   "source": [
    "import os\n",
    "import csv\n",
    "\n",
    "# Definir la ruta base y de salida\n",
    "base_dir = \"/home/win001/00_heart/00_Dataset_CNN/02_Recortes\"\n",
    "output_file = os.path.join(base_dir, \"dataset.csv\")\n",
    "\n",
    "# Crear y abrir el archivo CSV para escritura\n",
    "with open(output_file, 'w', newline='') as csvfile:\n",
    "    fieldnames = ['image_file', 'paciente', 'frame', 'type']\n",
    "    writer = csv.DictWriter(csvfile, fieldnames=fieldnames)\n",
    "\n",
    "    writer.writeheader()\n",
    "\n",
    "    # Recorrer las carpetas MCH y Otros\n",
    "    for category in [\"MCH\", \"Otros\"]:\n",
    "        cat_dir = os.path.join(base_dir, category)\n",
    "        cat_type = 1 if category == \"MCH\" else 0\n",
    "    \n",
    "        # Recorrer las carpetas de cada paciente\n",
    "        for patient in os.listdir(cat_dir):\n",
    "            patient_id = patient.strip('_')  # Eliminar el guion bajo al principio de la id del paciente\n",
    "            patient_dir = os.path.join(cat_dir, patient)\n",
    "            \n",
    "            # Recorrer las carpetas de frames\n",
    "            for image_file in os.listdir(patient_dir):\n",
    "                frame_number = image_file.split('_')[-1].strip('.png')  # Extraer el número de frame del nombre del archivo\n",
    "                image_file_path = os.path.join(patient_dir, image_file)\n",
    "\n",
    "                # Escribir la información en el archivo CSV\n",
    "                writer.writerow({'image_file': image_file_path, 'paciente': patient_id, 'frame': frame_number, 'type': cat_type})\n",
    "\n",
    "print(\"El archivo CSV ha sido creado exitosamente en la ruta:\", output_file)"
   ]
  },
  {
   "cell_type": "markdown",
   "id": "070886be-8acf-4769-98a5-cf547cf5d7c1",
   "metadata": {},
   "source": [
    "Miramos las primeras 5 filas del archivo generado:"
   ]
  },
  {
   "cell_type": "code",
   "execution_count": 9,
   "id": "838be39c-13f0-46be-be7c-1028c9e92a5a",
   "metadata": {},
   "outputs": [
    {
     "name": "stdout",
     "output_type": "stream",
     "text": [
      "                                          image_file  paciente  frame  type\n",
      "0  /home/win001/00_heart/00_Dataset_CNN/02_Recort...       130     12     1\n",
      "1  /home/win001/00_heart/00_Dataset_CNN/02_Recort...       130     22     1\n",
      "2  /home/win001/00_heart/00_Dataset_CNN/02_Recort...       130      4     1\n",
      "3  /home/win001/00_heart/00_Dataset_CNN/02_Recort...       130     10     1\n",
      "4  /home/win001/00_heart/00_Dataset_CNN/02_Recort...       130     20     1\n"
     ]
    }
   ],
   "source": [
    "import pandas as pd\n",
    "\n",
    "# Ruta del archivo CSV\n",
    "csv_file = \"/home/win001/00_heart/00_Dataset_CNN/02_Recortes/dataset.csv\"\n",
    "\n",
    "# Leer el archivo CSV con pandas\n",
    "df = pd.read_csv(csv_file)\n",
    "\n",
    "# Mostrar las primeras filas\n",
    "print(df.head())"
   ]
  },
  {
   "cell_type": "markdown",
   "id": "ddf3db23-14e2-403c-9699-c418663b6ef7",
   "metadata": {},
   "source": [
    "**<font size=\"4\">Creamos conjuntos de entrenamiento y test:**</font>\n",
    "<dl>\n",
    "<dt>Como tenemos pocas muestras de pacientes no usaremos conjunto de validación, a riesgo de obtener un modelo con sobreajuste</dt>\n",
    "    <dd>- Conjunto de entrenamiento será del 70% del total</dd>\n",
    "    <dd>- Conjunto de test será del 30% del total</dt>\n",
    "    <dd>- Todas las imágenes de un mismo paciente irán a un único conjunto</dd>\n",
    "    <dd>- el 70% de imágenes destinadas a entrenamiento serán duplicadas usando Image Augmentation</dd>\n",
    "</dl>"
   ]
  },
  {
   "cell_type": "code",
   "execution_count": 10,
   "id": "3c63137e-b7dc-463a-8b77-4f07aa0f1ffb",
   "metadata": {},
   "outputs": [
    {
     "name": "stdout",
     "output_type": "stream",
     "text": [
      "Los archivos train.csv y test.csv han sido creados exitosamente.\n"
     ]
    }
   ],
   "source": [
    "import pandas as pd\n",
    "from sklearn.model_selection import train_test_split\n",
    "\n",
    "# Ruta del archivo CSV\n",
    "csv_file = \"/home/win001/00_heart/00_Dataset_CNN/02_Recortes/dataset.csv\"\n",
    "\n",
    "# Leer el archivo CSV con pandas\n",
    "df = pd.read_csv(csv_file)\n",
    "\n",
    "# Obtener la lista única de pacientes\n",
    "pacientes = df['paciente'].unique()\n",
    "\n",
    "# Dividir la lista de pacientes en train y test\n",
    "pacientes_train, pacientes_test = train_test_split(pacientes, test_size=0.3, random_state=42)  # 70% train, 30% test\n",
    "\n",
    "# Crear los conjuntos de train y test\n",
    "df_train = df[df['paciente'].isin(pacientes_train)]\n",
    "df_test = df[df['paciente'].isin(pacientes_test)]\n",
    "\n",
    "# Guardar los conjuntos de train y test como archivos CSV\n",
    "df_train.to_csv(\"/home/win001/00_heart/00_Dataset_CNN/02_Recortes/train.csv\", index=False)\n",
    "df_test.to_csv(\"/home/win001/00_heart/00_Dataset_CNN/02_Recortes/test.csv\", index=False)\n",
    "\n",
    "print(\"Los archivos train.csv y test.csv han sido creados exitosamente.\")"
   ]
  },
  {
   "cell_type": "markdown",
   "id": "40cd8500-a59a-4611-8918-6536afb02b75",
   "metadata": {},
   "source": [
    "**<font size=\"4\">Ampliación de muestras de entrenamiento usando Image Augmentation:**</font>\n",
    "<dl> Se aplicarán rotaciones aleatorias a las imágenes</dl>"
   ]
  },
  {
   "cell_type": "markdown",
   "id": "b7aa20a1-2fd8-4093-bfb3-ac1828edbf6b",
   "metadata": {},
   "source": [
    "Aplicamos rotaciones a las imágenes y observamos los resultaos obtenidos"
   ]
  },
  {
   "cell_type": "code",
   "execution_count": 37,
   "id": "bef58003-8edd-4932-b0a2-730099a974f7",
   "metadata": {},
   "outputs": [
    {
     "data": {
      "image/png": "[encoded data removed]",
      "text/plain": [
       "<Figure size 1200x600 with 2 Axes>"
      ]
     },
     "metadata": {},
     "output_type": "display_data"
    }
   ],
   "source": [
    "import matplotlib.pyplot as plt\n",
    "from PIL import Image\n",
    "from imgaug import augmenters as iaa\n",
    "import numpy as np\n",
    "import imgaug as ia\n",
    "\n",
    "# Carga la imagen\n",
    "image_path = \"/home/win001/00_heart/00_Dataset_CNN/02_Recortes/MCH/_3/MAX_MIN_10.png\"\n",
    "image = np.array(Image.open(image_path))\n",
    "\n",
    "# Divide la imagen en dos mitades\n",
    "half = int(image.shape[1] / 2)\n",
    "left_half = image[:, :half]\n",
    "right_half = image[:, half:]\n",
    "\n",
    "# Crea una secuencia de aumentación con una rotación aleatoria\n",
    "degree = np.random.uniform(45, 360)  # Cambia el rango según tus necesidades\n",
    "aug = iaa.Affine(rotate=degree)\n",
    "\n",
    "# Aplica la misma rotación a ambas mitades\n",
    "left_half_aug = aug(image=left_half)\n",
    "right_half_aug = aug(image=right_half)\n",
    "\n",
    "# Vuelve a unir las dos mitades\n",
    "image_aug = np.concatenate((left_half_aug, right_half_aug), axis=1)\n",
    "\n",
    "# Mostrar la imagen original y la aumentada\n",
    "fig, ax = plt.subplots(1, 2, figsize=(12, 6))\n",
    "\n",
    "ax[0].imshow(image)\n",
    "ax[0].set_title(\"Original Image - Shape: \" + str(image.shape))\n",
    "ax[0].axis(\"off\")\n",
    "\n",
    "ax[1].imshow(image_aug)\n",
    "ax[1].set_title(\"Augmented Image - Shape: \" + str(image_aug.shape))\n",
    "ax[1].axis(\"off\")\n",
    "\n",
    "plt.show()"
   ]
  },
  {
   "cell_type": "markdown",
   "id": "02f6aa87-c440-4208-91e8-5e274891a2ce",
   "metadata": {},
   "source": [
    "Aplicamos los cambios a todas las imágenes de train.csv"
   ]
  },
  {
   "cell_type": "code",
   "execution_count": 32,
   "id": "1b08ba94-c201-4796-92e6-eae9275959e2",
   "metadata": {},
   "outputs": [],
   "source": [
    "import os\n",
    "import pandas as pd\n",
    "from PIL import Image\n",
    "from imgaug import augmenters as iaa\n",
    "import numpy as np\n",
    "import imgaug as ia\n",
    "\n",
    "# Ruta del archivo CSV\n",
    "csv_file = \"/home/win001/00_heart/00_Dataset_CNN/02_Recortes/train.csv\"\n",
    "\n",
    "# Directorio de salida\n",
    "output_dir = \"/home/win001/00_heart/00_Dataset_CNN/02_Recortes/Image Augmentation\"\n",
    "\n",
    "# Leer el archivo CSV\n",
    "df = pd.read_csv(csv_file)\n",
    "\n",
    "# Crea una secuencia de aumentación con una rotación aleatoria\n",
    "aug = iaa.Affine(rotate=(-360, 360))\n",
    "\n",
    "# Recorre todas las filas del DataFrame\n",
    "for index, row in df.iterrows():\n",
    "    # Carga la imagen\n",
    "    image_path = row[\"image_file\"]\n",
    "    image = np.array(Image.open(image_path))\n",
    "\n",
    "    # Divide la imagen en dos mitades\n",
    "    half = int(image.shape[1] / 2)\n",
    "    left_half = image[:, :half]\n",
    "    right_half = image[:, half:]\n",
    "\n",
    "    # Aplica la misma rotación a ambas mitades\n",
    "    left_half_aug = aug(image=left_half)\n",
    "    right_half_aug = aug(image=right_half)\n",
    "\n",
    "    # Vuelve a unir las dos mitades\n",
    "    image_aug = np.concatenate((left_half_aug, right_half_aug), axis=1)\n",
    "\n",
    "    # Crear directorios de salida si no existen\n",
    "    patient_id = row[\"paciente\"]\n",
    "    category = \"aug_MCH\" if row[\"type\"] == 1 else \"aug_Otros\"\n",
    "    patient_folder = os.path.join(output_dir, category, f\"_{patient_id}\")\n",
    "    os.makedirs(patient_folder, exist_ok=True)\n",
    "\n",
    "    # Guarda la imagen transformada\n",
    "    output_path = os.path.join(patient_folder, \"rot_\" + os.path.basename(image_path))\n",
    "    Image.fromarray(image_aug).save(output_path)"
   ]
  },
  {
   "cell_type": "markdown",
   "id": "9ca01811-f2a2-47d6-ad83-4a5a6d81990d",
   "metadata": {},
   "source": [
    "**<font size=\"4\">Obtención de train_full.csv con las imagenes originales y las transformadas**</font>\n",
    "<dl>\n",
    "<dt>Se generará un archivo train_aug.csv con las imágenes transformadas</dt>\n",
    "<dt>Se fusionarán train.csv y train_aug.csv</dt>\n",
    "    <dd>- Para evitar duplicar las ID de los pacientes, a los obtenidos con las rotaciones se les sumará \"99990000\"</dd>\n",
    "</dl>"
   ]
  },
  {
   "cell_type": "markdown",
   "id": "988e6f12-db0a-41d6-be04-8948c7501a7c",
   "metadata": {},
   "source": [
    "Generamos train_aug.csv"
   ]
  },
  {
   "cell_type": "code",
   "execution_count": 33,
   "id": "c1cc7051-243f-4752-a8f2-82756554336e",
   "metadata": {},
   "outputs": [],
   "source": [
    "import os\n",
    "import pandas as pd\n",
    "\n",
    "# Ruta del directorio de las nuevas imágenes\n",
    "image_dir = \"/home/win001/00_heart/00_Dataset_CNN/02_Recortes/Image Augmentation\"\n",
    "\n",
    "# Crear una lista para almacenar las filas del archivo CSV\n",
    "data = []\n",
    "\n",
    "# Recorrer los directorios de las categorías\n",
    "for category in os.listdir(image_dir):\n",
    "    category_dir = os.path.join(image_dir, category)\n",
    "\n",
    "    # Recorrer los directorios de los pacientes\n",
    "    for patient in os.listdir(category_dir):\n",
    "        patient_dir = os.path.join(category_dir, patient)\n",
    "\n",
    "        # Recorrer los archivos de imagen\n",
    "        for image_file in os.listdir(patient_dir):\n",
    "            # Obtener la ruta completa del archivo de imagen\n",
    "            image_file_path = os.path.join(patient_dir, image_file)\n",
    "\n",
    "            # Obtener el ID del paciente sumando 99990000\n",
    "            patient_id = int(patient.lstrip('_')) + 99990000\n",
    "\n",
    "            # Obtener el número de frame del nombre del archivo de imagen\n",
    "            frame = int(image_file.split('_')[-1].split('.')[0])\n",
    "\n",
    "            # Asignar 1 si pertenece a \"aug_MCH\", 0 si pertenece a \"aug_Otros\"\n",
    "            type = 1 if category == \"aug_MCH\" else 0\n",
    "\n",
    "            # Agregar la fila al archivo CSV\n",
    "            data.append([image_file_path, patient_id, frame, type])\n",
    "\n",
    "# Crear un DataFrame a partir de la lista de datos\n",
    "df = pd.DataFrame(data, columns=[\"image_file\", \"paciente\", \"frame\", \"type\"])\n",
    "\n",
    "# Guardar el DataFrame en un archivo CSV\n",
    "df.to_csv(\"/home/win001/00_heart/00_Dataset_CNN/02_Recortes/train_aug.csv\", index=False)"
   ]
  },
  {
   "cell_type": "code",
   "execution_count": 34,
   "id": "730eec34-5eb5-4936-860b-696bc4400ecd",
   "metadata": {},
   "outputs": [
    {
     "name": "stdout",
     "output_type": "stream",
     "text": [
      "                                          image_file  paciente  frame  type\n",
      "0  /home/win001/00_heart/00_Dataset_CNN/02_Recort...  99990123     13     0\n",
      "1  /home/win001/00_heart/00_Dataset_CNN/02_Recort...  99990123      1     0\n",
      "2  /home/win001/00_heart/00_Dataset_CNN/02_Recort...  99990123      7     0\n",
      "3  /home/win001/00_heart/00_Dataset_CNN/02_Recort...  99990123      2     0\n",
      "4  /home/win001/00_heart/00_Dataset_CNN/02_Recort...  99990123      4     0\n"
     ]
    }
   ],
   "source": [
    "import pandas as pd\n",
    "\n",
    "# Ruta del archivo CSV\n",
    "csv_file = \"/home/win001/00_heart/00_Dataset_CNN/02_Recortes/train_aug.csv\"\n",
    "\n",
    "# Leer el archivo CSV con pandas\n",
    "df = pd.read_csv(csv_file)\n",
    "\n",
    "# Mostrar las primeras filas\n",
    "print(df.head())"
   ]
  },
  {
   "cell_type": "markdown",
   "id": "ee2388a5-c928-4bb8-bffb-779e07fa9956",
   "metadata": {},
   "source": [
    "Fusionamos train.csv y train_aug.csv para obtener train_full.csv"
   ]
  },
  {
   "cell_type": "code",
   "execution_count": 35,
   "id": "88b8b808-7007-4706-b3df-0557d6a4e504",
   "metadata": {},
   "outputs": [],
   "source": [
    "import pandas as pd\n",
    "\n",
    "# Leer los archivos CSV\n",
    "train = pd.read_csv(\"/home/win001/00_heart/00_Dataset_CNN/02_Recortes/train.csv\")\n",
    "train_aug = pd.read_csv(\"/home/win001/00_heart/00_Dataset_CNN/02_Recortes/train_aug.csv\")\n",
    "\n",
    "# Concatenar los DataFrames\n",
    "train_full = pd.concat([train, train_aug])\n",
    "\n",
    "# Guardar el DataFrame en un archivo CSV\n",
    "train_full.to_csv(\"/home/win001/00_heart/00_Dataset_CNN/02_Recortes/train_full.csv\", index=False)"
   ]
  },
  {
   "cell_type": "markdown",
   "id": "8d55e388-1023-4aba-89ec-69094de4b2ea",
   "metadata": {},
   "source": [
    "Contamos el número de pacientes únicos en cada dataset de entrenamiento"
   ]
  },
  {
   "cell_type": "code",
   "execution_count": 36,
   "id": "49f0af67-2c23-470c-83bc-2453f2c213b7",
   "metadata": {},
   "outputs": [
    {
     "name": "stdout",
     "output_type": "stream",
     "text": [
      "Number of unique patients in train.csv: 31\n",
      "Number of unique patients in train_aug.csv: 31\n",
      "Number of unique patients in train_full.csv: 62\n"
     ]
    }
   ],
   "source": [
    "import pandas as pd\n",
    "\n",
    "# Leer los archivos CSV\n",
    "train = pd.read_csv(\"/home/win001/00_heart/00_Dataset_CNN/02_Recortes/train.csv\")\n",
    "train_aug = pd.read_csv(\"/home/win001/00_heart/00_Dataset_CNN/02_Recortes/train_aug.csv\")\n",
    "train_full = pd.read_csv(\"/home/win001/00_heart/00_Dataset_CNN/02_Recortes/train_full.csv\")\n",
    "\n",
    "# Contar el número de pacientes únicos en cada DataFrame\n",
    "num_unique_patients_train = train['paciente'].nunique()\n",
    "num_unique_patients_train_aug = train_aug['paciente'].nunique()\n",
    "num_unique_patients_train_full = train_full['paciente'].nunique()\n",
    "\n",
    "print(f\"Number of unique patients in train.csv: {num_unique_patients_train}\")\n",
    "print(f\"Number of unique patients in train_aug.csv: {num_unique_patients_train_aug}\")\n",
    "print(f\"Number of unique patients in train_full.csv: {num_unique_patients_train_full}\")"
   ]
  },
  {
   "cell_type": "markdown",
   "id": "6d477121-f026-4d89-bf16-319272aa2723",
   "metadata": {},
   "source": [
    "**<font size=\"4\">Modificaremos el formato de las imágenes de RGBA a RGB para poder entrenar los modelos con pesos pre-entrenados</font>**"
   ]
  },
  {
   "cell_type": "code",
   "execution_count": 39,
   "id": "674ddf09-76b0-4b89-8dda-e8037bb341f0",
   "metadata": {},
   "outputs": [
    {
     "name": "stdout",
     "output_type": "stream",
     "text": [
      "Imágenes convertidas y guardadas en formato RGB para el archivo train_aug.csv.\n",
      "Imágenes convertidas y guardadas en formato RGB para el archivo dataset.csv.\n",
      "Proceso completado.\n"
     ]
    }
   ],
   "source": [
    "import os\n",
    "import pandas as pd\n",
    "from PIL import Image\n",
    "\n",
    "# Directorio de los archivos CSV\n",
    "csv_dir = \"/home/win001/00_heart/00_Dataset_CNN/02_Recortes\"\n",
    "\n",
    "# Archivos CSV a procesar\n",
    "csv_files = [\"train_aug.csv\", \"dataset.csv\"]\n",
    "\n",
    "# Recorrer los archivos CSV\n",
    "for csv_file in csv_files:\n",
    "    # Ruta completa del archivo CSV\n",
    "    csv_path = os.path.join(csv_dir, csv_file)\n",
    "\n",
    "    # Leer el archivo CSV\n",
    "    df = pd.read_csv(csv_path)\n",
    "\n",
    "    # Recorrer las filas del DataFrame\n",
    "    for index, row in df.iterrows():\n",
    "        # Obtener la ruta completa de la imagen\n",
    "        image_path = row[\"image_file\"]\n",
    "\n",
    "        # Cargar la imagen\n",
    "        image = Image.open(image_path)\n",
    "\n",
    "        # Convertir la imagen de RGBA a RGB\n",
    "        image = image.convert(\"RGB\")\n",
    "\n",
    "        # Generar el nuevo nombre de archivo con el prefijo \"RGB_\"\n",
    "        file_name = os.path.basename(image_path)\n",
    "        new_file_name = \"RGB_\" + file_name\n",
    "\n",
    "        # Construir la ruta de salida con el mismo directorio y el nuevo nombre de archivo\n",
    "        output_path = os.path.join(os.path.dirname(image_path), new_file_name)\n",
    "\n",
    "        # Guardar la imagen modificada\n",
    "        image.save(output_path)\n",
    "\n",
    "    print(f\"Imágenes convertidas y guardadas en formato RGB para el archivo {csv_file}.\")\n",
    "\n",
    "print(\"Proceso completado.\")"
   ]
  },
  {
   "cell_type": "markdown",
   "id": "de7b9922-dd8f-40df-b36e-8c9469da8bff",
   "metadata": {},
   "source": [
    "Actualizamos los archivos csv"
   ]
  },
  {
   "cell_type": "code",
   "execution_count": 40,
   "id": "9338e410-c57a-4532-92c6-08b130b24627",
   "metadata": {},
   "outputs": [
    {
     "name": "stdout",
     "output_type": "stream",
     "text": [
      "Columna 'RGB_file' agregada al archivo train_full.csv.\n",
      "Columna 'RGB_file' agregada al archivo test.csv.\n",
      "Proceso completado.\n"
     ]
    }
   ],
   "source": [
    "import os\n",
    "import pandas as pd\n",
    "\n",
    "# Ruta de los archivos CSV\n",
    "csv_dir = \"/home/win001/00_heart/00_Dataset_CNN/02_Recortes\"\n",
    "\n",
    "# Archivos CSV a procesar\n",
    "csv_files = [\"train_full.csv\", \"test.csv\"]\n",
    "\n",
    "# Recorrer los archivos CSV\n",
    "for csv_file in csv_files:\n",
    "    # Ruta completa del archivo CSV\n",
    "    csv_path = os.path.join(csv_dir, csv_file)\n",
    "\n",
    "    # Leer el archivo CSV\n",
    "    df = pd.read_csv(csv_path)\n",
    "\n",
    "    # Agregar la columna \"RGB_file\" con los nombres de archivo modificados\n",
    "    df[\"RGB_file\"] = df[\"image_file\"].apply(lambda x: os.path.join(os.path.dirname(x), \"RGB_\" + os.path.basename(x)))\n",
    "\n",
    "    # Guardar el DataFrame modificado en el mismo archivo CSV\n",
    "    df.to_csv(csv_path, index=False)\n",
    "\n",
    "    print(f\"Columna 'RGB_file' agregada al archivo {csv_file}.\")\n",
    "\n",
    "print(\"Proceso completado.\")"
   ]
  },
  {
   "cell_type": "code",
   "execution_count": 41,
   "id": "9e9b11be-b0b6-41bd-a394-8d48a1d8ece1",
   "metadata": {},
   "outputs": [
    {
     "name": "stdout",
     "output_type": "stream",
     "text": [
      "                                          image_file  paciente  frame  type  \\\n",
      "0  /home/win001/00_heart/00_Dataset_CNN/02_Recort...       130     12     1   \n",
      "1  /home/win001/00_heart/00_Dataset_CNN/02_Recort...       130     22     1   \n",
      "2  /home/win001/00_heart/00_Dataset_CNN/02_Recort...       130      4     1   \n",
      "3  /home/win001/00_heart/00_Dataset_CNN/02_Recort...       130     10     1   \n",
      "4  /home/win001/00_heart/00_Dataset_CNN/02_Recort...       130     20     1   \n",
      "\n",
      "                                            RGB_file  \n",
      "0  /home/win001/00_heart/00_Dataset_CNN/02_Recort...  \n",
      "1  /home/win001/00_heart/00_Dataset_CNN/02_Recort...  \n",
      "2  /home/win001/00_heart/00_Dataset_CNN/02_Recort...  \n",
      "3  /home/win001/00_heart/00_Dataset_CNN/02_Recort...  \n",
      "4  /home/win001/00_heart/00_Dataset_CNN/02_Recort...  \n"
     ]
    }
   ],
   "source": [
    "import pandas as pd\n",
    "\n",
    "# Ruta del archivo CSV\n",
    "csv_file = \"/home/win001/00_heart/00_Dataset_CNN/02_Recortes/train_full.csv\"\n",
    "\n",
    "# Leer el archivo CSV con pandas\n",
    "df = pd.read_csv(csv_file)\n",
    "\n",
    "# Mostrar las primeras filas\n",
    "print(df.head())"
   ]
  },
  {
   "cell_type": "code",
   "execution_count": null,
   "id": "70e97ce5-634c-440c-b9a4-b827fec5121e",
   "metadata": {},
   "outputs": [],
   "source": []
  }
 ],
 "metadata": {
  "kernelspec": {
   "display_name": "Python 3 (ipykernel)",
   "language": "python",
   "name": "python3"
  },
  "language_info": {
   "codemirror_mode": {
    "name": "ipython",
    "version": 3
   },
   "file_extension": ".py",
   "mimetype": "text/x-python",
   "name": "python",
   "nbconvert_exporter": "python",
   "pygments_lexer": "ipython3",
   "version": "3.9.16"
  }
 },
 "nbformat": 4,
 "nbformat_minor": 5
}
